{
 "cells": [
  {
   "cell_type": "code",
   "execution_count": 28,
   "metadata": {},
   "outputs": [
    {
     "name": "stdout",
     "output_type": "stream",
     "text": [
      "\n",
      "zm-三 是新型战斗机, \n",
      "二零二一年十二月三十一日,\n",
      "三点一四是圆周率, \n",
      "百分之一百表示全部, \n",
      "一亿表示一亿, \n",
      "十亿表示十亿。 \n",
      "零点六一八是黄金分割比例。 \n",
      "百分之三点一四表示百分之三点一四。 \n",
      "百分之三十二点五表示百分之三十二点五。\n",
      "他当时还没有卖掉zip2，所以\n",
      "\n"
     ]
    }
   ],
   "source": [
    "from utils import convert_arabic_to_chinese\n",
    "\n",
    "\n",
    "# 测试\n",
    "text1 = \"\"\"\n",
    "zm-3 是新型战斗机, \n",
    "2021年12月31日,\n",
    "3.14是圆周率, \n",
    "100%表示全部, \n",
    "100,000,000表示一亿, \n",
    "1,000,000,000表示十亿。 \n",
    "0.618是黄金分割比例。 \n",
    "3.14%表示百分之3.14。 \n",
    "32.5%表示百分之32.5。\n",
    "他当时还没有卖掉zip2，所以\n",
    "- 1,234,567\n",
    "- 1 234 567\n",
    "\"\"\"\n",
    "\n",
    "# 输出结果\n",
    "print(convert_arabic_to_chinese(text1))\n"
   ]
  },
  {
   "cell_type": "code",
   "execution_count": 25,
   "metadata": {},
   "outputs": [
    {
     "name": "stdout",
     "output_type": "stream",
     "text": [
      "0 第0章 简介著名传记作家艾萨克森以近距\n",
      "1 第1章对于所有曾被我冒犯的人，我只想对\n",
      "2 第1章 冒险家温妮弗雷德·霍尔德曼与乔\n"
     ]
    }
   ],
   "source": [
    "import zhconv\n",
    "\n",
    "\n",
    "\n",
    "def split_chapter(content: str) -> list[tuple[int, str]]:\n",
    "    \"\"\"\n",
    "    拆分章节\n",
    "    输入: 小说文本内容\n",
    "    输出: 章节列表 [(idx, str)]\n",
    "    \"\"\"\n",
    "    content = convert_arabic_to_chinese(content)\n",
    "    content = zhconv.convert(content, \"zh-cn\")\n",
    "\n",
    "    # 修改后的正则表达式，能够匹配两种格式\n",
    "    chapter_pattern = re.compile(r\"第([零一二三四五六七八九十百千]+)(章|节)\\s*(.*)\")\n",
    "\n",
    "    chapters = []\n",
    "    chapter_content = []\n",
    "    chapter_idx = 0  # 从 0 开始编号\n",
    "\n",
    "    for line in content.splitlines():\n",
    "        line = line.strip()\n",
    "        match = chapter_pattern.match(line)\n",
    "        if match:\n",
    "            # 如果当前章节内容不为空，保存当前章节\n",
    "            if chapter_content:\n",
    "                chapters.append((chapter_idx, \"\\n\".join(chapter_content)))\n",
    "                chapter_idx += 1\n",
    "\n",
    "            # 增加章节号处理：将中文数字转换为阿拉伯数字\n",
    "            chinese_number = match.group(1)\n",
    "            arabic_number = cn2an.cn2an(chinese_number, mode=\"smart\")\n",
    "            chapter_title = match.group(3).strip()\n",
    "\n",
    "            # 如果章节标题为空，表示只有“第xx章”，则继续处理\n",
    "            if not chapter_title:\n",
    "                chapter_title = f\"第{arabic_number}章\"\n",
    "            else:\n",
    "                chapter_title = f\"第{arabic_number}章 {chapter_title}\"\n",
    "\n",
    "            chapter_content = [chapter_title]\n",
    "        else:\n",
    "            if line:  # 忽略空行\n",
    "                chapter_content.append(line)\n",
    "\n",
    "    # 保存最后一章\n",
    "    if chapter_content:\n",
    "        chapters.append((chapter_idx, \"\\n\".join(chapter_content)))\n",
    "\n",
    "    return chapters\n",
    "\n",
    "\n",
    "\n",
    "content = \"\"\"\n",
    "第0章 简介\n",
    "\n",
    "\n",
    "著名传记作家艾萨克森以近距离的观察视角，\n",
    "\n",
    "第1章\n",
    "\n",
    "\n",
    "对于所有曾被我冒犯的人，我只想对你们说，\n",
    "\n",
    "\n",
    "第01节　冒险家\n",
    "\n",
    "\n",
    "温妮弗雷德·霍尔德曼与乔舒亚·霍尔德曼（左上）；埃罗尔、梅耶、埃隆、托斯卡和金博尔（左下）；科拉·马斯克和沃尔特·马斯克（右）\n",
    "\n",
    "\"\"\"\n",
    "\n",
    "res = split_chapter(content)\n",
    "\n",
    "for (idx, item_content) in res:\n",
    "    print(idx, item_content[0:20].replace('\\n', ''))"
   ]
  }
 ],
 "metadata": {
  "kernelspec": {
   "display_name": "GPTSoVits",
   "language": "python",
   "name": "python3"
  },
  "language_info": {
   "codemirror_mode": {
    "name": "ipython",
    "version": 3
   },
   "file_extension": ".py",
   "mimetype": "text/x-python",
   "name": "python",
   "nbconvert_exporter": "python",
   "pygments_lexer": "ipython3",
   "version": "3.9.19"
  }
 },
 "nbformat": 4,
 "nbformat_minor": 2
}
